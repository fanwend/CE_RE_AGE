{
 "cells": [
  {
   "cell_type": "code",
   "execution_count": 10,
   "metadata": {
    "collapsed": true,
    "pycharm": {
     "name": "#%%\n"
    }
   },
   "outputs": [],
   "source": [
    "from scipy.stats import truncnorm\n",
    "\n"
   ]
  },
  {
   "cell_type": "code",
   "execution_count": 11,
   "outputs": [],
   "source": [
    "    def attitude_level_distribution( a, b, loc, scale):\n",
    "\n",
    "        # a= 0.1\n",
    "        # b= 5\n",
    "        # loc=3\n",
    "        # scale=2\n",
    "\n",
    "        distribution = truncnorm(a, b, loc, scale)\n",
    "        attitude_level = float(distribution.rvs(1))\n",
    "        return attitude_level"
   ],
   "metadata": {
    "collapsed": false,
    "pycharm": {
     "name": "#%%\n"
    }
   }
  },
  {
   "cell_type": "code",
   "execution_count": 12,
   "outputs": [
    {
     "name": "stdout",
     "output_type": "stream",
     "text": [
      "4.236488163681063\n"
     ]
    }
   ],
   "source": [
    "acfy = attitude_level_distribution(0.1,5,3,2)\n",
    "print(acfy)"
   ],
   "metadata": {
    "collapsed": false,
    "pycharm": {
     "name": "#%%\n"
    }
   }
  },
  {
   "cell_type": "code",
   "execution_count": null,
   "outputs": [],
   "source": [
    "((0 - att_distrib_param_reuse[0]) /att_distrib_param_reuse[1],/\n",
    "(1 - att_distrib_param_reuse[0]) /\n",
    "att_distrib_param_reuse[1],\n",
    "att_distrib_param_reuse[0],\n",
    "att_distrib_param_reuse[1])"
   ],
   "metadata": {
    "collapsed": false,
    "pycharm": {
     "name": "#%%\n"
    }
   }
  },
  {
   "cell_type": "code",
   "execution_count": 5,
   "outputs": [
    {
     "name": "stdout",
     "output_type": "stream",
     "text": [
      "-0.5\n"
     ]
    }
   ],
   "source": [
    "def acf(a,b):\n",
    "        return (0-a)/b, a+b, a, b\n",
    "(a,b,loc,scale)=acf(1,2)\n",
    "print(a)"
   ],
   "metadata": {
    "collapsed": false,
    "pycharm": {
     "name": "#%%\n"
    }
   }
  },
  {
   "cell_type": "code",
   "execution_count": 4,
   "outputs": [
    {
     "ename": "NameError",
     "evalue": "name 'landfill_product' is not defined",
     "output_type": "error",
     "traceback": [
      "\u001B[1;31m---------------------------------------------------------------------------\u001B[0m",
      "\u001B[1;31mNameError\u001B[0m                                 Traceback (most recent call last)",
      "Cell \u001B[1;32mIn [4], line 5\u001B[0m\n\u001B[0;32m      3\u001B[0m         landfill_product \u001B[38;5;241m=\u001B[39m \u001B[38;5;241m9\u001B[39m\n\u001B[0;32m      4\u001B[0m         \u001B[38;5;28;01mreturn\u001B[39;00m landfill_product\n\u001B[1;32m----> 5\u001B[0m a\u001B[38;5;241m=\u001B[39m \u001B[43mlandfill_product\u001B[49m\n\u001B[0;32m      6\u001B[0m \u001B[38;5;28mprint\u001B[39m(a)\n",
      "\u001B[1;31mNameError\u001B[0m: name 'landfill_product' is not defined"
     ]
    }
   ],
   "source": [
    "import random\n",
    "def landfill_cal():\n",
    "        landfill_product = 9\n",
    "        return landfill_product\n",
    "a= landfill_product\n",
    "print(a)"
   ],
   "metadata": {
    "collapsed": false,
    "pycharm": {
     "name": "#%%\n"
    }
   }
  }
 ],
 "metadata": {
  "kernelspec": {
   "display_name": "Python 3",
   "language": "python",
   "name": "python3"
  },
  "language_info": {
   "codemirror_mode": {
    "name": "ipython",
    "version": 2
   },
   "file_extension": ".py",
   "mimetype": "text/x-python",
   "name": "python",
   "nbconvert_exporter": "python",
   "pygments_lexer": "ipython2",
   "version": "2.7.6"
  }
 },
 "nbformat": 4,
 "nbformat_minor": 0
}